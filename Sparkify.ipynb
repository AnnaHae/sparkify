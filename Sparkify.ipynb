{
 "cells": [
  {
   "cell_type": "markdown",
   "metadata": {},
   "source": [
    "# Sparkify Project: Predicting Customer Churn\n",
    "In this workspace there will be several steps peformed to build and evaluate a model predicting customer churn:\n",
    "    \n",
    "   1. [Load and Clean Dataset](#preprocess)\n",
    "   2. [Exploratory Data Analysis](#analysis)\n",
    "   3. [Feature Engineering](#features)\n",
    "   4. [Modeling](#model)\n",
    "   5. [Conclusion](#conclusion)\n",
    "   \n",
    "This workspace contains a tiny subset (128MB) of the full dataset available (12GB)."
   ]
  },
  {
   "cell_type": "code",
   "execution_count": 14,
   "metadata": {},
   "outputs": [],
   "source": [
    "#Importing Libraries\n",
    "import re\n",
    "import datetime\n",
    "import matplotlib.pyplot as plt\n",
    "import pandas as pd\n",
    "import seaborn as sns\n",
    "import numpy as np\n",
    "from pyspark.ml.evaluation import MulticlassClassificationEvaluator\n",
    "from pyspark.ml.feature import Normalizer, VectorAssembler\n",
    "from pyspark.ml.tuning import CrossValidator, ParamGridBuilder\n",
    "from pyspark.sql import SparkSession\n",
    "from pyspark.sql.functions import avg, col, concat, desc, explode, lit, min, max, split, udf, isnull, countDistinct\n",
    "from pyspark.sql.functions import isnull, when, count, col, isnan\n",
    "from pyspark.sql.types import IntegerType\n",
    "from pyspark.ml import Pipeline\n",
    "from pyspark.ml.classification import LinearSVC, GBTClassifier, DecisionTreeClassifier,LogisticRegression,RandomForestClassifier"
   ]
  },
  {
   "cell_type": "code",
   "execution_count": 15,
   "metadata": {},
   "outputs": [],
   "source": [
    "# create a Spark session\n",
    "spark = SparkSession \\\n",
    "    .builder \\\n",
    "    .appName(\"Sparkify\") \\\n",
    "    .getOrCreate()"
   ]
  },
  {
   "cell_type": "markdown",
   "metadata": {},
   "source": [
    "# Load and Clean Dataset <a id='preprocess'></a>\n",
    "In this workspace, the mini-dataset file is `mini_sparkify_event_data.json`. \n",
    "Load and clean the dataset, checking for invalid or missing data, in this case records without userids or sessionids. "
   ]
  },
  {
   "cell_type": "code",
   "execution_count": 16,
   "metadata": {},
   "outputs": [],
   "source": [
    "#Load json file\n",
    "data= spark.read.json('./mini_sparkify_event_data.json')"
   ]
  },
  {
   "cell_type": "code",
   "execution_count": 17,
   "metadata": {},
   "outputs": [
    {
     "name": "stdout",
     "output_type": "stream",
     "text": [
      "+----------------+---------+---------+------+-------------+--------+---------+-----+--------------------+------+--------+-------------+---------+--------------------+------+-------------+--------------------+------+\n",
      "|          artist|     auth|firstName|gender|itemInSession|lastName|   length|level|            location|method|    page| registration|sessionId|                song|status|           ts|           userAgent|userId|\n",
      "+----------------+---------+---------+------+-------------+--------+---------+-----+--------------------+------+--------+-------------+---------+--------------------+------+-------------+--------------------+------+\n",
      "|  Martha Tilston|Logged In|    Colin|     M|           50| Freeman|277.89016| paid|     Bakersfield, CA|   PUT|NextSong|1538173362000|       29|           Rockpools|   200|1538352117000|Mozilla/5.0 (Wind...|    30|\n",
      "|Five Iron Frenzy|Logged In|    Micah|     M|           79|    Long|236.09424| free|Boston-Cambridge-...|   PUT|NextSong|1538331630000|        8|              Canada|   200|1538352180000|\"Mozilla/5.0 (Win...|     9|\n",
      "|    Adam Lambert|Logged In|    Colin|     M|           51| Freeman| 282.8273| paid|     Bakersfield, CA|   PUT|NextSong|1538173362000|       29|   Time For Miracles|   200|1538352394000|Mozilla/5.0 (Wind...|    30|\n",
      "|          Enigma|Logged In|    Micah|     M|           80|    Long|262.71302| free|Boston-Cambridge-...|   PUT|NextSong|1538331630000|        8|Knocking On Forbi...|   200|1538352416000|\"Mozilla/5.0 (Win...|     9|\n",
      "|       Daft Punk|Logged In|    Colin|     M|           52| Freeman|223.60771| paid|     Bakersfield, CA|   PUT|NextSong|1538173362000|       29|Harder Better Fas...|   200|1538352676000|Mozilla/5.0 (Wind...|    30|\n",
      "+----------------+---------+---------+------+-------------+--------+---------+-----+--------------------+------+--------+-------------+---------+--------------------+------+-------------+--------------------+------+\n",
      "only showing top 5 rows\n",
      "\n"
     ]
    }
   ],
   "source": [
    "#explore data set\n",
    "data.head(5)\n",
    "data.show(5)"
   ]
  },
  {
   "cell_type": "code",
   "execution_count": 18,
   "metadata": {},
   "outputs": [
    {
     "data": {
      "text/plain": [
       "286500"
      ]
     },
     "execution_count": 18,
     "metadata": {},
     "output_type": "execute_result"
    }
   ],
   "source": [
    "# check number of rows in dataset\n",
    "data.count()"
   ]
  },
  {
   "cell_type": "code",
   "execution_count": 19,
   "metadata": {},
   "outputs": [
    {
     "name": "stdout",
     "output_type": "stream",
     "text": [
      "+------+----+---------+------+-------------+--------+------+-----+--------+------+----+------------+---------+-----+------+---+---------+------+\n",
      "|artist|auth|firstName|gender|itemInSession|lastName|length|level|location|method|page|registration|sessionId| song|status| ts|userAgent|userId|\n",
      "+------+----+---------+------+-------------+--------+------+-----+--------+------+----+------------+---------+-----+------+---+---------+------+\n",
      "| 58392|   0|     8346|  8346|            0|    8346| 58392|    0|    8346|     0|   0|        8346|        0|58392|     0|  0|     8346|     0|\n",
      "+------+----+---------+------+-------------+--------+------+-----+--------+------+----+------------+---------+-----+------+---+---------+------+\n",
      "\n"
     ]
    }
   ],
   "source": [
    "# check dataset for nan and missing values\n",
    "data.select([count(when(isnan(c) | col(c).isNull(), c)).alias(c) for c in data.columns]).show()"
   ]
  },
  {
   "cell_type": "markdown",
   "metadata": {},
   "source": [
    "There are no missing or nan values in the columns of interest, which in this case are sessionId and userId.\n",
    "The only missing values are in columns that are not relevant for the further analysis, are nor needed in the notebook.\n",
    "Although there are no missing values in the next few cells i will provide code to drop all the columns that have missing userId or session Id in case the notebook is used with the full dataset."
   ]
  },
  {
   "cell_type": "code",
   "execution_count": 20,
   "metadata": {},
   "outputs": [],
   "source": [
    "data = data.dropna(how = 'any', subset = ['userId', 'sessionId'])"
   ]
  },
  {
   "cell_type": "code",
   "execution_count": 21,
   "metadata": {},
   "outputs": [],
   "source": [
    "# drop empty userId columns\n",
    "data = data.filter(data['userId'] != '')"
   ]
  },
  {
   "cell_type": "code",
   "execution_count": 22,
   "metadata": {},
   "outputs": [
    {
     "data": {
      "text/plain": [
       "0"
      ]
     },
     "execution_count": 22,
     "metadata": {},
     "output_type": "execute_result"
    }
   ],
   "source": [
    "# check missing values in userId column\n",
    "data.filter((data[\"userId\"] == \"\")| data[\"userId\"].isNull() | isnan(data[\"userId\"])).count()"
   ]
  },
  {
   "cell_type": "code",
   "execution_count": 23,
   "metadata": {
    "scrolled": true
   },
   "outputs": [
    {
     "data": {
      "text/plain": [
       "0"
      ]
     },
     "execution_count": 23,
     "metadata": {},
     "output_type": "execute_result"
    }
   ],
   "source": [
    "# check missing values in sessionId column\n",
    "data.filter((data[\"sessionId\"] == \"\") | data[\"sessionId\"].isNull() | isnan(data[\"sessionId\"])).count()"
   ]
  },
  {
   "cell_type": "markdown",
   "metadata": {},
   "source": [
    "# Exploratory Data Analysis <a id='analysis'></a>\n",
    "In this workspace, a small subset of the whole dataset is explored.\n",
    "\n",
    "### Define Churn\n",
    "\n",
    "A column `Churn` is created to use as the label for the ML model. I used the `Cancellation Confirmation` events to define churn, which happens for both paid and free users.\n",
    "\n",
    "### Explore Data\n",
    "I performed some exploratory data analysis to observe the behavior for users who stayed vs users who churned."
   ]
  },
  {
   "cell_type": "code",
   "execution_count": 24,
   "metadata": {},
   "outputs": [],
   "source": [
    "#create a Churn Column \n",
    "churn = udf(lambda x: 1 if x == 'Cancellation Confirmation' else 0, IntegerType())\n",
    "data = data.withColumn('Churn', churn('page'))"
   ]
  },
  {
   "cell_type": "code",
   "execution_count": 25,
   "metadata": {},
   "outputs": [],
   "source": [
    "# create a datetime column from timestamp\n",
    "timestamp = udf(lambda x: datetime.datetime.fromtimestamp(x / 1000.0).strftime(\"%Y-%m-%d %H:%M:%S\"))\n",
    "data = data.withColumn(\"time\", timestamp(data.ts))\n",
    "data = data.withColumn('registration_time',timestamp('registration'))"
   ]
  },
  {
   "cell_type": "code",
   "execution_count": 26,
   "metadata": {},
   "outputs": [
    {
     "data": {
      "image/png": "[encoded data removed]",
      "text/plain": [
       "<Figure size 432x288 with 1 Axes>"
      ]
     },
     "metadata": {
      "needs_background": "light"
     },
     "output_type": "display_data"
    }
   ],
   "source": [
    "# plot churn distribution for unique users\n",
    "churn_bar = data.dropDuplicates([\"userId\", \"Churn\"]).groupby([\"Churn\"]).count().sort(\"Churn\").toPandas()\n",
    "ax=sns.barplot(x='Churn', y='count', data=churn_bar,palette='Set3')\n",
    "plt.xlabel('Churn')\n",
    "plt.ylabel('count')\n",
    "plt.title('total churn ratio of unique users')\n",
    "sns.despine(ax=ax);\n",
    "plt.savefig('total churn ratio')"
   ]
  },
  {
   "cell_type": "code",
   "execution_count": 27,
   "metadata": {},
   "outputs": [
    {
     "data": {
      "image/png": "[encoded data removed]",
      "text/plain": [
       "<Figure size 432x288 with 1 Axes>"
      ]
     },
     "metadata": {
      "needs_background": "light"
     },
     "output_type": "display_data"
    }
   ],
   "source": [
    "# plot male and female churn ratio\n",
    "gender_churn = data.dropDuplicates([\"userId\", \"gender\",'Churn']).groupby([\"Churn\",'gender']).count().sort(\"Churn\").toPandas()\n",
    "ax=sns.barplot(x='Churn', y='count', hue='gender',data=gender_churn, palette='Set3')\n",
    "plt.xlabel('Churn')\n",
    "plt.ylabel('count')\n",
    "plt.title('Gender churn ratio')\n",
    "sns.despine(ax=ax);\n",
    "plt.savefig('gender churn ratio')"
   ]
  },
  {
   "cell_type": "code",
   "execution_count": 28,
   "metadata": {},
   "outputs": [
    {
     "data": {
      "image/png": "[encoded data removed]",
      "text/plain": [
       "<Figure size 432x288 with 1 Axes>"
      ]
     },
     "metadata": {
      "needs_background": "light"
     },
     "output_type": "display_data"
    }
   ],
   "source": [
    "# plot paid and free subscription churn ratio\n",
    "subscription_churn = data.dropDuplicates([\"userId\", \"level\",'Churn']).groupby([\"Churn\",'level']).count().sort(\"Churn\").toPandas()\n",
    "ax=sns.barplot(x=\"Churn\", y=\"count\",hue='level', data=subscription_churn, palette='Set3')\n",
    "plt.xlabel('Churn')\n",
    "plt.ylabel('count')\n",
    "plt.title('Subscription type Churn ratio')\n",
    "sns.despine(ax=ax);\n",
    "plt.savefig('subscription type churn ratio')"
   ]
  },
  {
   "cell_type": "code",
   "execution_count": 29,
   "metadata": {},
   "outputs": [],
   "source": [
    "# plot time since registration -> at what point of time do customers churn?\n",
    "lifetime = data.select('userId','registration','ts','Churn').withColumn('lifetime',(data.ts-data.registration)) \\\n",
    "    .groupBy('userId','Churn') \\\n",
    "    .agg({'lifetime':'max'}) \\\n",
    "    .withColumnRenamed('max(lifetime)','lifetime') \\\n",
    "    .select('userId', 'Churn', (col('lifetime')/1000/3600/24).alias('lifetime')) \\\n",
    "    .toPandas()"
   ]
  },
  {
   "cell_type": "code",
   "execution_count": 30,
   "metadata": {},
   "outputs": [
    {
     "data": {
      "image/png": "[encoded data removed]",
      "text/plain": [
       "<Figure size 432x288 with 1 Axes>"
      ]
     },
     "metadata": {
      "needs_background": "light"
     },
     "output_type": "display_data"
    }
   ],
   "source": [
    "ax = sns.boxplot(data=lifetime, y='Churn', x='lifetime', orient='h', palette='Set3')\n",
    "plt.xlabel('Days since registration')\n",
    "plt.ylabel('Churn')\n",
    "plt.title('Time since registration')\n",
    "sns.despine(ax=ax);\n",
    "plt.savefig('time since registration')"
   ]
  },
  {
   "cell_type": "code",
   "execution_count": 31,
   "metadata": {},
   "outputs": [
    {
     "data": {
      "image/png": "[encoded data removed]",
      "text/plain": [
       "<Figure size 432x288 with 1 Axes>"
      ]
     },
     "metadata": {
      "needs_background": "light"
     },
     "output_type": "display_data"
    }
   ],
   "source": [
    "# plot average number of items per session\n",
    "items = data \\\n",
    "    .select('userId','itemInSession','Churn') \\\n",
    "    .groupBy('userId','Churn') \\\n",
    "    .agg({'itemInSession':'avg'}) \\\n",
    "    .withColumnRenamed('avg(itemInSession)','itemInSession') \\\n",
    "    .select('userId', 'Churn', (col('itemInSession')).alias('itemInSession')) \\\n",
    "    .toPandas()\n",
    "ax = sns.boxplot(data=items, y='Churn', x='itemInSession', orient='h', palette='Set3')\n",
    "plt.xlabel('average number of items in session')\n",
    "plt.ylabel('Churn')\n",
    "plt.title('Average number of items per session')\n",
    "sns.despine(ax=ax);\n",
    "plt.savefig('avg items per session')"
   ]
  },
  {
   "cell_type": "markdown",
   "metadata": {},
   "source": [
    "# Feature Engineering <a id='features'></a>\n",
    "I build out the featuresi found promising to train the model on.\n",
    "\n",
    "I extracted features based on the small subset of data."
   ]
  },
  {
   "cell_type": "code",
   "execution_count": 32,
   "metadata": {},
   "outputs": [
    {
     "name": "stdout",
     "output_type": "stream",
     "text": [
      "+-------+------------------+-------------------+\n",
      "|summary|            userId|  registration_days|\n",
      "+-------+------------------+-------------------+\n",
      "|  count|               225|                225|\n",
      "|   mean|65391.013333333336|   79.8456834876543|\n",
      "| stddev|105396.47791907164|  37.66147001861254|\n",
      "|    min|                10|0.31372685185185184|\n",
      "|    max|                99|  256.3776736111111|\n",
      "+-------+------------------+-------------------+\n",
      "\n",
      "+------+------------------+\n",
      "|userId| registration_days|\n",
      "+------+------------------+\n",
      "|100010|  55.6436574074074|\n",
      "|200002| 70.07462962962963|\n",
      "|   125| 71.31688657407408|\n",
      "|    51|19.455844907407407|\n",
      "|   124|131.55591435185184|\n",
      "+------+------------------+\n",
      "only showing top 5 rows\n",
      "\n"
     ]
    }
   ],
   "source": [
    "# feature 1: days since registration\n",
    "feature_1 = data \\\n",
    "    .select('userId','registration','ts') \\\n",
    "    .withColumn('lifetime',(data.ts-data.registration)) \\\n",
    "    .groupBy('userId') \\\n",
    "    .agg({'lifetime':'max'}) \\\n",
    "    .withColumnRenamed('max(lifetime)','lifetime') \\\n",
    "    .select('userId', (col('lifetime')/1000/3600/24).alias('registration_days'))\n",
    "feature_1.describe().show()\n",
    "feature_1.show(5)"
   ]
  },
  {
   "cell_type": "code",
   "execution_count": 33,
   "metadata": {},
   "outputs": [
    {
     "name": "stdout",
     "output_type": "stream",
     "text": [
      "+-------+------------------+------------------+\n",
      "|summary|            userId| items_per_session|\n",
      "+-------+------------------+------------------+\n",
      "|  count|               225|               225|\n",
      "|   mean|65391.013333333336| 85.26612937155095|\n",
      "| stddev|105396.47791907164|58.099810332288286|\n",
      "|    min|                10|               2.5|\n",
      "|    max|                99| 383.1247511612475|\n",
      "+-------+------------------+------------------+\n",
      "\n",
      "+------+------------------+\n",
      "|userId| items_per_session|\n",
      "+------+------------------+\n",
      "|100010| 35.89501312335958|\n",
      "|200002| 60.57805907172996|\n",
      "|   125|               5.0|\n",
      "|    51|200.60349025974025|\n",
      "|   124|165.09927461139895|\n",
      "+------+------------------+\n",
      "only showing top 5 rows\n",
      "\n"
     ]
    }
   ],
   "source": [
    "# feature 2: number of items per session\n",
    "feature_2 = data.select('userId','itemInSession').groupBy('userId').agg({'itemInSession':'avg'}).withColumnRenamed('avg(itemInSession)','itemInSession').select('userId', (col('itemInSession')).alias('items_per_session'))\n",
    "feature_2.describe().show()\n",
    "feature_2.show(5)"
   ]
  },
  {
   "cell_type": "code",
   "execution_count": 34,
   "metadata": {},
   "outputs": [
    {
     "name": "stdout",
     "output_type": "stream",
     "text": [
      "+------+-----+\n",
      "|userId|level|\n",
      "+------+-----+\n",
      "|100010|  0.0|\n",
      "|200002|  0.0|\n",
      "|   125|  0.0|\n",
      "|   124|  1.0|\n",
      "|    51|  1.0|\n",
      "+------+-----+\n",
      "only showing top 5 rows\n",
      "\n"
     ]
    }
   ],
   "source": [
    "# feature 3: user level\n",
    "feature_3 = data.dropDuplicates(['userId']).select(['userId','level']).replace(['paid','free'], ['1', '0'])\n",
    "feature_3 = feature_3.withColumn('level', feature_3.level.cast(\"float\"))\n",
    "feature_3.show(5)"
   ]
  },
  {
   "cell_type": "code",
   "execution_count": 35,
   "metadata": {},
   "outputs": [
    {
     "name": "stdout",
     "output_type": "stream",
     "text": [
      "+------+---------+\n",
      "|userId|thumbs_up|\n",
      "+------+---------+\n",
      "|100010|       17|\n",
      "|200002|       21|\n",
      "|    51|      100|\n",
      "|   124|      171|\n",
      "|     7|        7|\n",
      "+------+---------+\n",
      "only showing top 5 rows\n",
      "\n",
      "+------+-----------+\n",
      "|userId|thumbs_down|\n",
      "+------+-----------+\n",
      "|100010|          5|\n",
      "|200002|          6|\n",
      "|    51|         21|\n",
      "|   124|         41|\n",
      "|     7|          1|\n",
      "+------+-----------+\n",
      "only showing top 5 rows\n",
      "\n"
     ]
    }
   ],
   "source": [
    "# feature 4: number of thumbs up\n",
    "feature_4 = data.select('userId', 'page').where(data.page == 'Thumbs Up').groupBy('userId').count().withColumnRenamed('count', 'thumbs_up')\n",
    "feature_4.show(5)\n",
    "\n",
    "# feature 5: number of thumbs down\n",
    "feature_5 = data.select('userId', 'page').where(data.page == 'Thumbs Down').groupBy('userId').count().withColumnRenamed('count', 'thumbs_down')\n",
    "feature_5.show(5)"
   ]
  },
  {
   "cell_type": "code",
   "execution_count": 36,
   "metadata": {},
   "outputs": [
    {
     "name": "stdout",
     "output_type": "stream",
     "text": [
      "+------+------------------+\n",
      "|userId|number_of_sessions|\n",
      "+------+------------------+\n",
      "|100010|                 7|\n",
      "|200002|                 6|\n",
      "|   125|                 1|\n",
      "|    51|                10|\n",
      "|   124|                29|\n",
      "+------+------------------+\n",
      "only showing top 5 rows\n",
      "\n"
     ]
    }
   ],
   "source": [
    "# feature 6: number of sessions\n",
    "feature_6 = data.select(\"userId\", \"sessionId\").dropDuplicates().groupby(\"userId\").count().withColumnRenamed(\"count\", \"number_of_sessions\")\n",
    "feature_6.show(5)"
   ]
  },
  {
   "cell_type": "code",
   "execution_count": 37,
   "metadata": {},
   "outputs": [
    {
     "name": "stdout",
     "output_type": "stream",
     "text": [
      "+------+------+\n",
      "|userId|gender|\n",
      "+------+------+\n",
      "|    44|     0|\n",
      "|    46|     0|\n",
      "|    41|     0|\n",
      "|    72|     0|\n",
      "|300023|     0|\n",
      "+------+------+\n",
      "only showing top 5 rows\n",
      "\n"
     ]
    }
   ],
   "source": [
    "# feature 7: gender\n",
    "feature_7 = data.select('userId', 'gender').dropDuplicates().replace(['F', 'M'], ['0', '1'], 'gender').select('userId', col('gender').cast('int'))\n",
    "feature_7.show(5)"
   ]
  },
  {
   "cell_type": "code",
   "execution_count": 38,
   "metadata": {},
   "outputs": [
    {
     "name": "stdout",
     "output_type": "stream",
     "text": [
      "+------+------------------+\n",
      "|userId|        total_time|\n",
      "+------+------------------+\n",
      "|100010|       66940.89735|\n",
      "|200002| 94008.87593999993|\n",
      "|   125|2089.1131000000005|\n",
      "|    51| 523275.8428000004|\n",
      "|   124|1012312.0927900008|\n",
      "+------+------------------+\n",
      "only showing top 5 rows\n",
      "\n"
     ]
    }
   ],
   "source": [
    "# feature 8: total time in service\n",
    "feature_8 = data.select(\"userId\", 'length').groupBy('userId').sum().withColumnRenamed('sum(length)', 'total_time')\n",
    "feature_8.show(5)"
   ]
  },
  {
   "cell_type": "code",
   "execution_count": 39,
   "metadata": {},
   "outputs": [
    {
     "name": "stdout",
     "output_type": "stream",
     "text": [
      "+------+--------------+\n",
      "|userID|songs_playlist|\n",
      "+------+--------------+\n",
      "|100010|             7|\n",
      "|200002|             8|\n",
      "|    51|            52|\n",
      "|   124|           118|\n",
      "|     7|             5|\n",
      "+------+--------------+\n",
      "only showing top 5 rows\n",
      "\n"
     ]
    }
   ],
   "source": [
    "# feature 9: number of songs added to playlist\n",
    "feature_9 = data.select('userID','page').where(data.page == 'Add to Playlist').groupBy('userID').count().withColumnRenamed('count', 'songs_playlist')\n",
    "feature_9.show(5)"
   ]
  },
  {
   "cell_type": "code",
   "execution_count": 40,
   "metadata": {},
   "outputs": [
    {
     "name": "stdout",
     "output_type": "stream",
     "text": [
      "+------+-------+\n",
      "|userID|friends|\n",
      "+------+-------+\n",
      "|100010|      4|\n",
      "|200002|      4|\n",
      "|    51|     28|\n",
      "|   124|     74|\n",
      "|     7|      1|\n",
      "+------+-------+\n",
      "only showing top 5 rows\n",
      "\n"
     ]
    }
   ],
   "source": [
    "# feature 10: number of friends added\n",
    "feature_10 = data.select('userID','page').where(data.page == 'Add Friend').groupBy('userID').count().withColumnRenamed('count', 'friends')\n",
    "feature_10.show(5)"
   ]
  },
  {
   "cell_type": "code",
   "execution_count": 41,
   "metadata": {},
   "outputs": [
    {
     "name": "stdout",
     "output_type": "stream",
     "text": [
      "+------+-----+\n",
      "|userId|label|\n",
      "+------+-----+\n",
      "|    73|    0|\n",
      "|    19|    0|\n",
      "|100005|    1|\n",
      "|200007|    0|\n",
      "|300007|    1|\n",
      "+------+-----+\n",
      "only showing top 5 rows\n",
      "\n"
     ]
    }
   ],
   "source": [
    "# Churn label (response variable)\n",
    "label = data.select('userId', 'Churn').dropDuplicates().withColumnRenamed('Churn', 'label')\n",
    "label.show(5)"
   ]
  },
  {
   "cell_type": "code",
   "execution_count": 42,
   "metadata": {},
   "outputs": [
    {
     "name": "stdout",
     "output_type": "stream",
     "text": [
      "+------------------+------------------+-----+---------+-----------+------------------+------+------------------+--------------+-------+-----+\n",
      "| registration_days| items_per_session|level|thumbs_up|thumbs_down|number_of_sessions|gender|        total_time|songs_playlist|friends|label|\n",
      "+------------------+------------------+-----+---------+-----------+------------------+------+------------------+--------------+-------+-----+\n",
      "|  55.6436574074074| 35.89501312335958|  0.0|       17|          5|                 7|     0|       66940.89735|             7|      4|    0|\n",
      "| 70.07462962962963| 60.57805907172996|  0.0|       21|          6|                 6|     1| 94008.87593999993|             8|      4|    0|\n",
      "|131.55591435185184|165.09927461139895|  1.0|      171|         41|                29|     0|1012312.0927900008|           118|     74|    0|\n",
      "|19.455844907407407|200.60349025974025|  1.0|      100|         21|                10|     1| 523275.8428000004|            52|     28|    1|\n",
      "|19.455844907407407|200.60349025974025|  1.0|      100|         21|                10|     1| 523275.8428000004|            52|     28|    0|\n",
      "+------------------+------------------+-----+---------+-----------+------------------+------+------------------+--------------+-------+-----+\n",
      "only showing top 5 rows\n",
      "\n"
     ]
    }
   ],
   "source": [
    "data_features = feature_1.join(feature_2, 'userId', 'inner').join(feature_3, 'userId', 'inner').join(feature_4, 'userId', 'inner')\\\n",
    "             .join(feature_5, 'userId', 'inner').join(feature_6, 'userId', 'inner').join(feature_7, 'userId', 'inner')\\\n",
    "             .join(feature_8, 'userId', 'inner').join(feature_9, 'userId', 'inner').join(feature_10, 'userId', 'inner').join(label,'userId','inner').drop(\"userId\")\n",
    "\n",
    "data_features.show(5)"
   ]
  },
  {
   "cell_type": "markdown",
   "metadata": {},
   "source": [
    "# Modeling <a id='model'></a>\n",
    "The dataset was split into train, test, and validation sets. \n",
    "\n",
    "5 ML models were trained and evaluated based on test accuracy.\n",
    "The winner model was then used to perform hyperparameter tuning. The final results were reported based on the validation set. Here the f1 score was used as metric to optimize, since the churned users are a fairly small subset.\n"
   ]
  },
  {
   "cell_type": "markdown",
   "metadata": {},
   "source": [
    "### Metrics\n",
    "\n",
    "For the evaluation i used the f1 score and accuracy. The f1 score is a measure of precision (sending the offer to the right person) and recall (missing users that we should have send an offer). The accuracy is a measure of how well we categorized the users in the two relevant classes ('churn' and 'non-churn').\n",
    "Both help us adress the offers/incentives only to users that are likely to churn and help prevent sending offers to users, that aren't likely to churn. Sending out offers to these would mean wasting money because also without the offer they wouldn't want to churn."
   ]
  },
  {
   "cell_type": "code",
   "execution_count": 43,
   "metadata": {},
   "outputs": [],
   "source": [
    "def model_train_and_evaluate(df,classification_model,model_name):\n",
    "    '''\n",
    "    function to perform \n",
    "        1.vectorization, normalization of a dataframe, \n",
    "        2.training given classification model\n",
    "        3.evaluating the models performance\n",
    "    \n",
    "    args:\n",
    "        df: dataframe with features and label\n",
    "        classification_model: spark classification model used for prediction\n",
    "        model_name: name of the classification model'''\n",
    "    \n",
    "    # splitting dataset into train, test and validation data\n",
    "    train, rest = df.randomSplit([0.6, 0.4], seed=12)\n",
    "    validation, test = rest.randomSplit([0.5, 0.5], seed=12)\n",
    "    \n",
    "    # initialize vectorizer\n",
    "    assembler = VectorAssembler(inputCols=['registration_days','items_per_session','level','thumbs_up','thumbs_down','number_of_sessions','gender','total_time','songs_playlist','friends'], outputCol=\"NumFeatures\")\n",
    "    # initialize normalizer\n",
    "    scaler = Normalizer(inputCol=\"NumFeatures\", outputCol=\"features\")\n",
    "    \n",
    "    # build pipeline with vectorizer, normalizer and classification_model\n",
    "    pipeline=Pipeline(stages=[assembler,scaler,classification_model])\n",
    "\n",
    "    # fit pipeline on training data\n",
    "    pmodel=pipeline.fit(train)\n",
    "    \n",
    "    # predicting on test data\n",
    "    results=pmodel.transform(test)\n",
    "    \n",
    "    #initialize evaluator\n",
    "    evaluator = MulticlassClassificationEvaluator(predictionCol=\"prediction\")\n",
    "    \n",
    "    #evaluate model on accuracy and f1 Score and print results\n",
    "    print(model_name)\n",
    "    print('Accuracy: {}'.format(evaluator.evaluate(results, {evaluator.metricName: \"accuracy\"})))\n",
    "    print('f1 Score:{}'.format(evaluator.evaluate(results, {evaluator.metricName: \"f1\"})))\n",
    "    "
   ]
  },
  {
   "cell_type": "code",
   "execution_count": 44,
   "metadata": {},
   "outputs": [
    {
     "name": "stdout",
     "output_type": "stream",
     "text": [
      "Logistic Regression:\n",
      "Accuracy: 0.8732394366197183\n",
      "f1 Score:0.8141480461717674\n"
     ]
    }
   ],
   "source": [
    "# Model training and evaluation of logistic regression\n",
    "logreg=LogisticRegression()\n",
    "model_train_and_evaluate(data_features,logreg,'Logistic Regression:')"
   ]
  },
  {
   "cell_type": "code",
   "execution_count": 45,
   "metadata": {},
   "outputs": [
    {
     "name": "stdout",
     "output_type": "stream",
     "text": [
      "Linear Support Vector Machine:\n",
      "Accuracy: 0.8732394366197183\n",
      "f1 Score:0.8141480461717674\n"
     ]
    }
   ],
   "source": [
    "# Model training and evaluation of linear support vector machine\n",
    "lsvc = LinearSVC()\n",
    "model_train_and_evaluate(data_features,lsvc,'Linear Support Vector Machine:')"
   ]
  },
  {
   "cell_type": "code",
   "execution_count": 46,
   "metadata": {},
   "outputs": [
    {
     "name": "stdout",
     "output_type": "stream",
     "text": [
      "Decision Tree:\n",
      "Accuracy: 0.8169014084507042\n",
      "f1 Score:0.8007541310857268\n"
     ]
    }
   ],
   "source": [
    "# Model training and evaluation of decision tree classifier\n",
    "dt = DecisionTreeClassifier()\n",
    "model_train_and_evaluate(data_features,dt,'Decision Tree:')"
   ]
  },
  {
   "cell_type": "code",
   "execution_count": 47,
   "metadata": {},
   "outputs": [
    {
     "name": "stdout",
     "output_type": "stream",
     "text": [
      "Gradient Boostet Tree:\n",
      "Accuracy: 0.7605633802816901\n",
      "f1 Score:0.7658910243661369\n"
     ]
    }
   ],
   "source": [
    "# Model training and evaluation of gradient boostet tree\n",
    "gbt = GBTClassifier(seed=42)\n",
    "model_train_and_evaluate(data_features,gbt,'Gradient Boostet Tree:')"
   ]
  },
  {
   "cell_type": "code",
   "execution_count": 48,
   "metadata": {},
   "outputs": [
    {
     "name": "stdout",
     "output_type": "stream",
     "text": [
      "Random Forest Classifier:\n",
      "Accuracy: 0.7887323943661971\n",
      "f1 Score:0.7833637116818558\n"
     ]
    }
   ],
   "source": [
    "# Model training and evaluation of random forest classfier\n",
    "rf = RandomForestClassifier(numTrees=10)\n",
    "model_train_and_evaluate(data_features,rf,'Random Forest Classifier:')"
   ]
  },
  {
   "cell_type": "markdown",
   "metadata": {},
   "source": [
    "#### Model summary: <a id='model_summary'></a>\n",
    "* The logistic regression model has a accuracy of: 0.873, and F1 score of:0.814\n",
    "* The linear support vector machine model has a accuracy of: 0.873, and F1 score of:0.814\n",
    "* The decision tree model has a accuracy of: 0.817, and F1 score of:0.801\n",
    "* The gradient boosted tree model has a accuracy of: 0.761, and F1 score of:0.769\n",
    "* The random forest model has a accuracy of: 0.789, and F1 score of:0.783"
   ]
  },
  {
   "cell_type": "markdown",
   "metadata": {},
   "source": [
    "#### Tuning Hyperparameters"
   ]
  },
  {
   "cell_type": "markdown",
   "metadata": {},
   "source": [
    "Regarding the accuracy of the test set the model of choice is Logistic Regression.\n",
    "Therefore it is used to tune the hyperparameters using GridSearch/Cross Validation.\n",
    "The hyperparameters tuned in this section are: `threshold` and `maxIter`, maximum number of iterations.\n",
    "The default values were: `maxIter=10`, `threshold=0.5` .\n",
    "The tested values using GridSearch will be: \n",
    "    `threshold`: 0.3, 0.4, 0.5\n",
    "    `maxIter`:   0, 50, 100"
   ]
  },
  {
   "cell_type": "code",
   "execution_count": 80,
   "metadata": {},
   "outputs": [
    {
     "name": "stdout",
     "output_type": "stream",
     "text": [
      "[0.7508743369443893, 0.7427643035179001, 0.7427643035179001, 0.7508743369443893, 0.7508743369443893, 0.7468713076249043, 0.7508743369443893, 0.7508743369443893, 0.7508743369443893]\n",
      "<bound method Params.extractParamMap of CrossValidatorModel_2edce57334db>\n",
      "final Linear SVC metrics:\n",
      "Accuracy: 0.8732394366197183\n",
      "F-1 Score:0.8141480461717674\n"
     ]
    }
   ],
   "source": [
    "# splitting dataset into train, test and validation data\n",
    "train, rest = data_features.randomSplit([0.6, 0.4], seed=12)\n",
    "test, validation = rest.randomSplit([0.5, 0.5], seed=12)\n",
    "\n",
    "# initialize vectorizer\n",
    "assembler = VectorAssembler(inputCols=['registration_days','items_per_session','level','thumbs_up','thumbs_down','number_of_sessions','gender','total_time','songs_playlist','friends'], outputCol=\"NumFeatures\")\n",
    "# initialize normalizer\n",
    "scaler = Normalizer(inputCol=\"NumFeatures\", outputCol=\"features\")\n",
    "# inititalize classifier\n",
    "logreg= LogisticRegression()\n",
    "\n",
    "# build pipeline\n",
    "pipeline=Pipeline(stages=[assembler,scaler,logreg])\n",
    "\n",
    "# initialize evaluater\n",
    "f1_score = MulticlassClassificationEvaluator(metricName='f1')\n",
    "\n",
    "# initialize paramGrid\n",
    "paramGrid = ParamGridBuilder() \\\n",
    "    .addGrid(logreg.threshold,[0.3,0.4,0.5]) \\\n",
    "    .addGrid(logreg.maxIter,[0,50,100])\\\n",
    "    .build()\n",
    "\n",
    "# perform cross validation\n",
    "crossval = CrossValidator(estimator=pipeline,\n",
    "                          evaluator=f1_score, \n",
    "                          estimatorParamMaps=paramGrid,\n",
    "                          numFolds=3)\n",
    "#fit training data on cross validator\n",
    "pmodel=crossval.fit(train)\n",
    "print(pmodel.avgMetrics)\n",
    "print(pmodel.extractParamMap)\n",
    "\n",
    "#predcit on validation data\n",
    "results=pmodel.transform(validation)\n",
    "\n",
    "#initialize evaluator\n",
    "evaluator = MulticlassClassificationEvaluator(predictionCol=\"prediction\")\n",
    "print('final Linear SVC metrics:')\n",
    "print('Accuracy: {}'.format(evaluator.evaluate(results, {evaluator.metricName: \"accuracy\"})))\n",
    "print('F-1 Score:{}'.format(evaluator.evaluate(results, {evaluator.metricName: \"f1\"})))\n"
   ]
  },
  {
   "cell_type": "code",
   "execution_count": 82,
   "metadata": {},
   "outputs": [
    {
     "data": {
      "text/plain": [
       "{Param(parent='LogisticRegression_d45f9232b610', name='threshold', doc='Threshold in binary classification prediction, in range [0, 1]. If threshold and thresholds are both set, they must match.e.g. if threshold is p, then thresholds must be equal to [1-p, p].'): 0.3,\n",
       " Param(parent='LogisticRegression_d45f9232b610', name='maxIter', doc='max number of iterations (>= 0).'): 0}"
      ]
     },
     "execution_count": 82,
     "metadata": {},
     "output_type": "execute_result"
    }
   ],
   "source": [
    "# show the hyperparameters of the best model\n",
    "pmodel.getEstimatorParamMaps()[np.argmax(pmodel.avgMetrics) ]"
   ]
  },
  {
   "cell_type": "markdown",
   "metadata": {},
   "source": [
    "The best model params are: `maxIter = 0` `threshold = 0.3`\n",
    "The analysis shows that the maxIter parameters had no influence on the outcome of the CrossValidation but the threshold improved the model performance when set to 0.3 instead of 0.5."
   ]
  },
  {
   "cell_type": "markdown",
   "metadata": {},
   "source": [
    "# Conclusion <a id='conclusion'></a>"
   ]
  },
  {
   "cell_type": "markdown",
   "metadata": {},
   "source": [
    "## Summary\n",
    "In this notebook we build a model for predicting customer churn.\n",
    "Several steps were performed using the mini sparkify dataset:\n",
    "    1. Load dataset\n",
    "    2. Clean dataset removing rows with Nan or missing values\n",
    "    3. Exploring dataset\n",
    "    4. Feature Extraction: Extracting features from the dataset for predicting customer churn\n",
    "    5. Model Building and Evaluation: Building of several ML pipelines using different Classifiers, Evaluating Models\n",
    "    6. Tuning hyperparameters of model, that had the highest accuracy on test set and improve f1 score using cross validation\n",
    "\n",
    "## Results\n",
    "\n",
    "In this notebook a spark environment is used to analyze a dataset. This gives us the opportunity to perform the analysis on a bigger dataset which needs more capacity and can usually not be performed on a single local machine.\n",
    "Examine and predicting customer churn is an essential method for companies to prevent losing users.\n",
    "This notebook shows that the main task is finding the right features to predict churn. It is crucial for implementing and improving the model.\n",
    "\n",
    "For the evaluation i used the f1 score and accuracy. The f1 score is a measure of precision (sending the offer to the right person) and recall (missing users that we should have send an offer). The accuracy is a measure of how well we categorized the users in the two relevant classes ('churn' and 'non-churn').\n",
    "Both help us adress the offers/incentives only to users that are likely to churn and help prevent sending offers to users, that aren't likely to churn. Sending out offers to these would mean wasting money because also without the offer they wouldn't want to churn.\n",
    "\n",
    "For the features I´ve chosen i got the following model performances:\n",
    "    \n",
    "The classifier, that performed best on test set (regarding accuracy) was Logistic Regression.\n",
    "The tuning of hyperparameters in that model only showed minimal improvements of f1 scores. \n",
    "* The logistic regression model has a accuracy of: 0.873, and F1 score of:0.814\n",
    "* The linear support vector machine model has a accuracy of: 0.873, and F1 score of:0.814\n",
    "* The decision tree model has a accuracy of: 0.817, and F1 score of:0.801\n",
    "* The gradient boosted tree model has a accuracy of: 0.761, and F1 score of:0.769\n",
    "* The random forest model has a accuracy of: 0.789, and F1 score of:0.783\n",
    "\n",
    "The model performance of logistic regression and linear SVM had a higher accuracy and f1 score. This might be due to the simplicity of the model and that we only used very few features.\n",
    "Since both models are limited when it comes to predicting complex models (i.e. when implementing new features) chosing GBT classifier, Decision Tree or Random Forest might lead to improved results.\n",
    "\n",
    "As a final step hyperparameter tuning was performeds. The parameters `threshold` and `maxIter`of the Logistic Regression Model were tuned using paramGrid and crossVal and improving f1 score. The final parameters were: `threshold= 0.5` and `maxIter= 0` which led to the following model performance measured on the validation testset: f1-Score= 0.814  accuracy= 0.873.\n",
    "\n",
    "\n",
    "## Improvements\n",
    "For improving the model i would suggest several steps:\n",
    "* put additional effort in feature engineering (more time series analysis) and implement new features\n",
    "* perform PCA on features to improve model run time\n",
    "* perform analysis on a larger dataset (the analyzed churn rate was quite low)\n",
    "\n"
   ]
  },
  {
   "cell_type": "code",
   "execution_count": null,
   "metadata": {},
   "outputs": [],
   "source": []
  }
 ],
 "metadata": {
  "kernelspec": {
   "display_name": "Python 3",
   "language": "python",
   "name": "python3"
  },
  "language_info": {
   "codemirror_mode": {
    "name": "ipython",
    "version": 3
   },
   "file_extension": ".py",
   "mimetype": "text/x-python",
   "name": "python",
   "nbconvert_exporter": "python",
   "pygments_lexer": "ipython3",
   "version": "3.8.3"
  }
 },
 "nbformat": 4,
 "nbformat_minor": 2
}
